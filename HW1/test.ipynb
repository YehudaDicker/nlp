{
 "cells": [
  {
   "cell_type": "code",
   "execution_count": 55,
   "metadata": {},
   "outputs": [
    {
     "name": "stdout",
     "output_type": "stream",
     "text": [
      "[('START',), ('natural',), ('language',), ('processing',), ('END',)]\n"
     ]
    }
   ],
   "source": [
    "def get_ngrams(sequence, n):\n",
    "    \"\"\"\n",
    "    COMPLETE THIS FUNCTION (PART 1)\n",
    "    Given a sequence, this function should return a list of n-grams, where each n-gram is a Python tuple.\n",
    "    This should work for arbitrary values of n >= 1 \n",
    "    \"\"\"\n",
    "\n",
    "    sequence = [\"START\"] * (n) + sequence + [\"END\"] if n == 1 else [\"START\"] * (n-1) + sequence + [\"END\"]\n",
    "\n",
    "    res = []\n",
    "\n",
    "    for i in range(len(sequence) - n + 1):  \n",
    "        ngram = tuple(sequence[i:i+n])  \n",
    "        res.append(ngram)\n",
    "\n",
    "    return res\n",
    "\n",
    "print(get_ngrams([\"natural\",\"language\",\"processing\"], 1))\n",
    "\n"
   ]
  }
 ],
 "metadata": {
  "kernelspec": {
   "display_name": "Python 3",
   "language": "python",
   "name": "python3"
  },
  "language_info": {
   "codemirror_mode": {
    "name": "ipython",
    "version": 3
   },
   "file_extension": ".py",
   "mimetype": "text/x-python",
   "name": "python",
   "nbconvert_exporter": "python",
   "pygments_lexer": "ipython3",
   "version": "3.10.2"
  },
  "orig_nbformat": 4
 },
 "nbformat": 4,
 "nbformat_minor": 2
}
