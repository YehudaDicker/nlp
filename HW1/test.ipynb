{
 "cells": [
  {
   "cell_type": "code",
   "execution_count": 55,
   "metadata": {},
   "outputs": [
    {
     "name": "stdout",
     "output_type": "stream",
     "text": [
      "[('START',), ('natural',), ('language',), ('processing',), ('END',)]\n"
     ]
    }
   ],
   "source": [
    "def get_ngrams(sequence, n):\n",
    "    \"\"\"\n",
    "    COMPLETE THIS FUNCTION (PART 1)\n",
    "    Given a sequence, this function should return a list of n-grams, where each n-gram is a Python tuple.\n",
    "    This should work for arbitrary values of n >= 1 \n",
    "    \"\"\"\n",
    "\n",
    "    sequence = [\"START\"] * (n) + sequence + [\"END\"] if n == 1 else [\"START\"] * (n-1) + sequence + [\"END\"]\n",
    "\n",
    "    res = []\n",
    "\n",
    "    for i in range(len(sequence) - n + 1):  \n",
    "        ngram = tuple(sequence[i:i+n])  \n",
    "        res.append(ngram)\n",
    "\n",
    "    return res\n",
    "\n",
    "print(get_ngrams([\"natural\",\"language\",\"processing\"], 1))\n",
    "\n"
   ]
  },
  {
   "cell_type": "code",
   "execution_count": 57,
   "metadata": {},
   "outputs": [],
   "source": [
    "import sys\n",
    "from collections import defaultdict\n",
    "import math\n",
    "import random\n",
    "import os\n",
    "import os.path\n",
    "\"\"\"\n",
    "COMS W4705 - Natural Language Processing - Fall 2023 \n",
    "Programming Homework 1 - Trigram Language Models\n",
    "Daniel Bauer\n",
    "\"\"\"\n",
    "\n",
    "def corpus_reader(corpusfile, lexicon=None): \n",
    "    with open(corpusfile,'r') as corpus: \n",
    "        for line in corpus: \n",
    "            if line.strip():\n",
    "                sequence = line.lower().strip().split()\n",
    "                if lexicon: \n",
    "                    yield [word if word in lexicon else \"UNK\" for word in sequence]\n",
    "                else: \n",
    "                    yield sequence\n",
    "\n",
    "def get_lexicon(corpus):\n",
    "    word_counts = defaultdict(int)\n",
    "    for sentence in corpus:\n",
    "        for word in sentence: \n",
    "            word_counts[word] += 1\n",
    "    return set(word for word in word_counts if word_counts[word] > 1)  \n",
    "\n",
    "\n",
    "\n",
    "def get_ngrams(sequence, n):\n",
    "    \"\"\"\n",
    "    COMPLETE THIS FUNCTION (PART 1)\n",
    "    Given a sequence, this function should return a list of n-grams, where each n-gram is a Python tuple.\n",
    "    This should work for arbitrary values of n >= 1 \n",
    "    \"\"\"\n",
    "\n",
    "    sequence = [\"START\"] * (n) + sequence + [\"END\"] if n == 1 else [\"START\"] * (n-1) + sequence + [\"END\"]\n",
    "\n",
    "    res = []\n",
    "\n",
    "    for i in range(len(sequence) - n + 1):  \n",
    "        ngram = tuple(sequence[i:i+n])  \n",
    "        res.append(ngram)\n",
    "\n",
    "    return res\n",
    "\n",
    "\n",
    "class TrigramModel(object):\n",
    "    \n",
    "    def __init__(self, corpusfile):\n",
    "    \n",
    "        # Iterate through the corpus once to build a lexicon \n",
    "        generator = corpus_reader(corpusfile)\n",
    "        self.lexicon = get_lexicon(generator)\n",
    "        self.lexicon.add(\"UNK\")\n",
    "        self.lexicon.add(\"START\")\n",
    "        self.lexicon.add(\"STOP\")\n",
    "    \n",
    "        # Now iterate through the corpus again and count ngrams\n",
    "        generator = corpus_reader(corpusfile, self.lexicon)\n",
    "        self.count_ngrams(generator)\n",
    "\n",
    "\n",
    "    def count_ngrams(self, corpus):\n",
    "        \"\"\"\n",
    "        COMPLETE THIS METHOD (PART 2)\n",
    "        Given a corpus iterator, populate dictionaries of unigram, bigram,\n",
    "        and trigram counts. \n",
    "        \"\"\"\n",
    "   \n",
    "        self.unigramcounts = {} # might want to use defaultdict or Counter instead\n",
    "        self.bigramcounts = {} \n",
    "        self.trigramcounts = {} \n",
    "\n",
    "        ##Your code here\n",
    "\n",
    "        uni = self.get_ngrams(corpus, 1)\n",
    "        \n",
    "        return uni\n",
    "\n"
   ]
  },
  {
   "cell_type": "code",
   "execution_count": 59,
   "metadata": {},
   "outputs": [
    {
     "ename": "NameError",
     "evalue": "name 'trigram' is not defined",
     "output_type": "error",
     "traceback": [
      "\u001b[0;31m---------------------------------------------------------------------------\u001b[0m",
      "\u001b[0;31mNameError\u001b[0m                                 Traceback (most recent call last)",
      "Cell \u001b[0;32mIn[59], line 17\u001b[0m\n\u001b[1;32m     14\u001b[0m        unigramProb \u001b[39m=\u001b[39m \u001b[39mself\u001b[39m\u001b[39m.\u001b[39mraw_unigram_probability(trigram[\u001b[39m2\u001b[39m:])\n\u001b[1;32m     16\u001b[0m        \u001b[39mreturn\u001b[39;00m \n\u001b[0;32m---> 17\u001b[0m \u001b[39mprint\u001b[39m(trigram)\n",
      "\u001b[0;31mNameError\u001b[0m: name 'trigram' is not defined"
     ]
    }
   ],
   "source": []
  }
 ],
 "metadata": {
  "kernelspec": {
   "display_name": "Python 3",
   "language": "python",
   "name": "python3"
  },
  "language_info": {
   "codemirror_mode": {
    "name": "ipython",
    "version": 3
   },
   "file_extension": ".py",
   "mimetype": "text/x-python",
   "name": "python",
   "nbconvert_exporter": "python",
   "pygments_lexer": "ipython3",
   "version": "3.10.2"
  },
  "orig_nbformat": 4
 },
 "nbformat": 4,
 "nbformat_minor": 2
}
